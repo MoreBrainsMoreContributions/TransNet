{
  "cells": [
    {
      "cell_type": "code",
      "execution_count": null,
      "metadata": {
        "id": "qSw1GY3W1pQq"
      },
      "outputs": [],
      "source": [
        "# !git clone https://github.com/soCzech/TransNet"
      ]
    },
    {
      "cell_type": "code",
      "execution_count": null,
      "metadata": {
        "id": "8JUKA5pI32wJ"
      },
      "outputs": [],
      "source": [
        "# !pip3 install --upgrade --force-reinstall tensorflow-gpu==1.15.0 "
      ]
    },
    {
      "cell_type": "code",
      "execution_count": null,
      "metadata": {
        "id": "pK3SSobV4ewD"
      },
      "outputs": [],
      "source": [
        "# !pip install protobuf==3.20.*"
      ]
    },
    {
      "cell_type": "code",
      "execution_count": 3,
      "metadata": {
        "colab": {
          "base_uri": "https://localhost:8080/"
        },
        "id": "DUlqYoQl2Vf1",
        "outputId": "9fdc95ba-9382-4516-9eab-bfbff18ddf1e"
      },
      "outputs": [
        {
          "name": "stdout",
          "output_type": "stream",
          "text": [
            "Looking in indexes: https://pypi.org/simple, https://us-python.pkg.dev/colab-wheels/public/simple/\n",
            "Collecting ffmpeg-python\n",
            "  Downloading ffmpeg_python-0.2.0-py3-none-any.whl (25 kB)\n",
            "Requirement already satisfied: future in /usr/local/lib/python3.7/dist-packages (from ffmpeg-python) (0.16.0)\n",
            "Installing collected packages: ffmpeg-python\n",
            "Successfully installed ffmpeg-python-0.2.0\n"
          ]
        }
      ],
      "source": [
        "# !pip install tensorflow\n",
        "# pip install pillow\n",
        "# !pip install ffmpeg-python"
      ]
    },
    {
      "cell_type": "code",
      "execution_count": 1,
      "metadata": {
        "colab": {
          "base_uri": "https://localhost:8080/"
        },
        "id": "FGZ8hiDZ2oyz",
        "outputId": "c5a25522-f291-4a8a-9c9e-692fd6e4cbad"
      },
      "outputs": [
        {
          "name": "stdout",
          "output_type": "stream",
          "text": [
            "/content/TransNet\n"
          ]
        }
      ],
      "source": [
        "# %cd TransNet"
      ]
    },
    {
      "cell_type": "code",
      "execution_count": 4,
      "metadata": {
        "colab": {
          "base_uri": "https://localhost:8080/"
        },
        "id": "9l_1eGgo4t0G",
        "outputId": "c68f781a-dc38-495d-98d4-f722179fb8d6"
      },
      "outputs": [
        {
          "name": "stdout",
          "output_type": "stream",
          "text": [
            "/usr/local/lib/python3.7/dist-packages/gdown/cli.py:131: FutureWarning: Option `--id` was deprecated in version 4.3.1 and will be removed in 5.0. You don't need to pass it anymore to use a file ID.\n",
            "  category=FutureWarning,\n",
            "Downloading...\n",
            "From: https://drive.google.com/uc?id=1bcAds2qz0rLDvwSCXFmaNozHWVu1DKj6\n",
            "To: /content/TransNet/viet-nam-rut-ngan-thoi-gian-xet-nghiem-virus-corona-moi-vtv24.mp4\n",
            "100% 15.7M/15.7M [00:00<00:00, 125MB/s] \n"
          ]
        }
      ],
      "source": [
        "# !gdown --id 1bcAds2qz0rLDvwSCXFmaNozHWVu1DKj6"
      ]
    },
    {
      "cell_type": "code",
      "execution_count": 1,
      "metadata": {
        "id": "5i4SIdfu2lk7"
      },
      "outputs": [],
      "source": [
        "import ffmpeg\n",
        "import numpy as np\n",
        "import tensorflow as tf\n",
        "\n",
        "from transnet import TransNetParams, TransNet\n",
        "from transnet_utils import draw_video_with_predictions, scenes_from_predictions"
      ]
    },
    {
      "cell_type": "code",
      "execution_count": 2,
      "metadata": {
        "colab": {
          "base_uri": "https://localhost:8080/"
        },
        "id": "pTNgl60j2nHL",
        "outputId": "bc4be8f4-c5f3-4d65-8774-b2b6cde13162"
      },
      "outputs": [
        {
          "name": "stdout",
          "output_type": "stream",
          "text": [
            "WARNING:tensorflow:From d:\\BAP\\retrieval\\TransNet\\transnet.py:20: The name tf.Session is deprecated. Please use tf.compat.v1.Session instead.\n",
            "\n",
            "[TransNet] Creating ops.\n",
            "WARNING:tensorflow:From d:\\BAP\\retrieval\\TransNet\\transnet.py:31: The name tf.variable_scope is deprecated. Please use tf.compat.v1.variable_scope instead.\n",
            "\n",
            "WARNING:tensorflow:From d:\\BAP\\retrieval\\TransNet\\transnet.py:37: The name tf.placeholder is deprecated. Please use tf.compat.v1.placeholder instead.\n",
            "\n",
            "           Input (?, ?, 27, 48, 3)\n",
            "           SDDCNN_1\n",
            "WARNING:tensorflow:From c:\\Users\\toand\\anaconda3\\envs\\transnetv1\\lib\\site-packages\\tensorflow_core\\python\\ops\\resource_variable_ops.py:1630: calling BaseResourceVariable.__init__ (from tensorflow.python.ops.resource_variable_ops) with constraint is deprecated and will be removed in a future version.\n",
            "Instructions for updating:\n",
            "If using Keras pass *_constraint arguments to layers.\n",
            "           > DDCNN_1 (?, ?, 27, 48, 64)\n",
            "           > DDCNN_2 (?, ?, 27, 48, 64)\n",
            "           MaxPool (?, ?, 13, 24, 64)\n",
            "           SDDCNN_2\n",
            "           > DDCNN_1 (?, ?, 13, 24, 128)\n",
            "           > DDCNN_2 (?, ?, 13, 24, 128)\n",
            "           MaxPool (?, ?, 6, 12, 128)\n",
            "           SDDCNN_3\n",
            "           > DDCNN_1 (?, ?, 6, 12, 256)\n",
            "           > DDCNN_2 (?, ?, 6, 12, 256)\n",
            "           MaxPool (?, ?, 3, 6, 256)\n",
            "           Flatten (?, ?, 4608)\n",
            "           Dense (?, ?, 256)\n",
            "           Logits (?, ?, 2)\n",
            "           Predictions (?, ?)\n",
            "[TransNet] Network built.\n",
            "WARNING:tensorflow:From d:\\BAP\\retrieval\\TransNet\\transnet.py:72: The name tf.trainable_variables is deprecated. Please use tf.compat.v1.trainable_variables instead.\n",
            "\n",
            "[TransNet] Found 4614850 trainable parameters.\n",
            "WARNING:tensorflow:From d:\\BAP\\retrieval\\TransNet\\transnet.py:77: The name tf.train.Saver is deprecated. Please use tf.compat.v1.train.Saver instead.\n",
            "\n",
            "INFO:tensorflow:Restoring parameters from ./model/transnet_model-F16_L3_S2_D256\n",
            "[TransNet] Parameters restored from 'transnet_model-F16_L3_S2_D256'.\n"
          ]
        }
      ],
      "source": [
        "# initialize the network\n",
        "params = TransNetParams()\n",
        "params.CHECKPOINT_PATH = \"./model/transnet_model-F16_L3_S2_D256\"\n",
        "\n",
        "net = TransNet(params)"
      ]
    },
    {
      "cell_type": "code",
      "execution_count": 10,
      "metadata": {
        "id": "XB6-0EHr2ygz"
      },
      "outputs": [],
      "source": [
        "# read video\n",
        "video = ffmpeg.input('vids/4.mp4')"
      ]
    },
    {
      "cell_type": "code",
      "execution_count": 11,
      "metadata": {},
      "outputs": [],
      "source": [
        "# export video into numpy array using ffmpeg for inference\n",
        "video_stream_input, err = (\n",
        "    video.output('pipe:', format='rawvideo', pix_fmt='rgb24', s='{}x{}'.format(params.INPUT_WIDTH, params.INPUT_HEIGHT))\n",
        "    .run(capture_stdout=True)\n",
        ")\n",
        "video_input = np.frombuffer(video_stream_input, np.uint8).reshape([-1, params.INPUT_HEIGHT, params.INPUT_WIDTH, 3])"
      ]
    },
    {
      "cell_type": "code",
      "execution_count": null,
      "metadata": {},
      "outputs": [],
      "source": [
        "# 1.mp4 - FPS: 20 - Resolution: 2560x1440 - Resize: 48*27 -> cost: 3m 1.1s - Total frames: 63458 frames - Duration: 42m 46s - Predict cost: 10m 57.7s\n",
        "# 4.mp4 - FPS: 20 - Resolution: 2560x1440 - Resize: 48*27 -> cost: 3m 52.9s - Total frames: 97755 frames - Duration: 01h 05m 23s - Predict cost: 17m 42.2s"
      ]
    },
    {
      "cell_type": "code",
      "execution_count": 52,
      "metadata": {},
      "outputs": [],
      "source": [
        "video_stream, err = (\n",
        "    ffmpeg\n",
        "    .input('vids/3.mkv')\n",
        "    .output('pipe:', format='rawvideo', pix_fmt='rgb24', s='{}x{}'.format(480, 240))\n",
        "    .run(capture_stdout=True)\n",
        ")"
      ]
    },
    {
      "cell_type": "code",
      "execution_count": null,
      "metadata": {},
      "outputs": [],
      "source": [
        "video = np.frombuffer(video_stream, np.uint8).reshape([-1, 240, 480, 3])"
      ]
    },
    {
      "cell_type": "code",
      "execution_count": null,
      "metadata": {},
      "outputs": [],
      "source": [
        "video = np.frombuffer(video_stream, np.uint8).reshape([-1, 240, 480, 3])"
      ]
    },
    {
      "cell_type": "code",
      "execution_count": 12,
      "metadata": {
        "colab": {
          "base_uri": "https://localhost:8080/"
        },
        "id": "IDTMpLPu40L2",
        "outputId": "09a4778a-d972-4073-f809-9afbee47a55c"
      },
      "outputs": [
        {
          "name": "stdout",
          "output_type": "stream",
          "text": [
            "[TransNet] Processing video frames 97755/97755\n"
          ]
        }
      ],
      "source": [
        "# predict transitions using the neural network\n",
        "predictions = net.predict_video(video_input)"
      ]
    },
    {
      "cell_type": "code",
      "execution_count": 6,
      "metadata": {},
      "outputs": [],
      "source": [
        "import numpy as np\n",
        "from PIL import Image, ImageDraw\n",
        "def draw_video_with_predictions(frames: np.ndarray, predictions: np.ndarray, threshold: float = 0.1):\n",
        "    print(frames.shape)\n",
        "    ih, iw, ic = frames.shape[1:]\n",
        "    width = 20\n",
        "    if len(frames) % width != 0:\n",
        "        pad_with = width - len(frames) % width\n",
        "        frames = np.concatenate([frames, np.zeros([pad_with, ih, iw, ic], np.uint8)])\n",
        "        predictions = np.concatenate([predictions, np.zeros([pad_with], np.float32)])\n",
        "    height = len(frames) // width\n",
        "\n",
        "    # for index, frame in enumerate(frames):\n",
        "    #     # print(index)\n",
        "    #     # scene = frame.reshape([height, width, ih, iw, ic])\n",
        "    #     # scene = np.concatenate(np.split(\n",
        "    #     #     np.concatenate(np.split(scene, height), axis=2)[0], width\n",
        "    #     # ), axis=2)[0]\n",
        "    #     img = Image.fromarray(frame)\n",
        "    #     img.save(f\"frames/frame_{index}.png\")\n",
        "\n",
        "    scene = frames.reshape([height, width, ih, iw, ic])\n",
        "    scene = np.concatenate(np.split(\n",
        "        np.concatenate(np.split(scene, height), axis=2)[0], width\n",
        "    ), axis=2)[0]\n",
        "\n",
        "    img = Image.fromarray(scene)\n",
        "    # img.save()\n",
        "    draw = ImageDraw.Draw(img)\n",
        "\n",
        "    adjusted_pred = predictions  # make it more visible\n",
        "    i = 0\n",
        "    index = [0]\n",
        "    for h in range(height):\n",
        "        for w in range(width):\n",
        "            # black line\n",
        "            draw.line((w * iw + iw - 3, h * ih,\n",
        "                       w * iw + iw - 3, (h + 1) * ih), fill=(0, 0, 0), width=4)\n",
        "            # green line or red line\n",
        "            if predictions[i] > threshold:\n",
        "                color = (0, 255, 0)\n",
        "                index += [i, i+1]\n",
        "            else:\n",
        "                color = (255, 0, 0)\n",
        "            draw.line((w * iw + iw - 3, h * ih + ih / 2 * (1 - adjusted_pred[i]),\n",
        "                       w * iw + iw - 3, h * ih + ih / 2 * (1 + adjusted_pred[i])),\n",
        "                      fill= color, width=2)\n",
        "            # White line\n",
        "            draw.line((w * iw, h * ih, (w + 1) * iw, h * ih), fill=(255, 255, 255))\n",
        "            i += 1\n",
        "    return img"
      ]
    },
    {
      "cell_type": "code",
      "execution_count": 44,
      "metadata": {},
      "outputs": [
        {
          "data": {
            "text/plain": [
              "(129639, 120, 240, 3)"
            ]
          },
          "execution_count": 44,
          "metadata": {},
          "output_type": "execute_result"
        }
      ],
      "source": [
        "video.shape"
      ]
    },
    {
      "cell_type": "code",
      "execution_count": 9,
      "metadata": {
        "colab": {
          "base_uri": "https://localhost:8080/",
          "height": 287
        },
        "id": "hcqJA1Sd44S3",
        "outputId": "e36ce66a-6512-4e8c-be78-76d05df750c2"
      },
      "outputs": [
        {
          "name": "stdout",
          "output_type": "stream",
          "text": [
            "(300, 27, 48, 3)\n"
          ]
        },
        {
          "data": {
            "image/png": "[encoded data removed]",
            "text/plain": [
              "<PIL.Image.Image image mode=RGB size=960x405>"
            ]
          },
          "execution_count": 9,
          "metadata": {},
          "output_type": "execute_result"
        }
      ],
      "source": [
        "# For ilustration purposes, we show only 200 frames starting with frame number 8000.\n",
        "draw_video_with_predictions(video_input[200:500], predictions[200:500], threshold=0.1)"
      ]
    },
    {
      "cell_type": "code",
      "execution_count": null,
      "metadata": {
        "colab": {
          "base_uri": "https://localhost:8080/",
          "height": 1000
        },
        "id": "IBv1-mUD5EG5",
        "outputId": "51e19e3e-16b5-4b54-90c3-69331403415b"
      },
      "outputs": [
        {
          "data": {
            "image/png": "[encoded data removed]",
            "text/plain": [
              "<PIL.Image.Image image mode=RGB size=960x108>"
            ]
          },
          "execution_count": 9,
          "metadata": {},
          "output_type": "execute_result"
        }
      ],
      "source": [
        "draw_video_with_predictions(video[:], predictions[:], threshold=0.1)"
      ]
    },
    {
      "cell_type": "code",
      "execution_count": 27,
      "metadata": {
        "colab": {
          "base_uri": "https://localhost:8080/"
        },
        "id": "HjUY4SA146Up",
        "outputId": "35d4795e-ba07-422f-afda-033db2e3d18a"
      },
      "outputs": [
        {
          "data": {
            "text/plain": [
              "array([[    0,   554],\n",
              "       [  556,   559],\n",
              "       [  566,  1781],\n",
              "       [ 1786,  1889],\n",
              "       [ 1892,  1920],\n",
              "       [ 1923,  2123],\n",
              "       [ 2135,  2263],\n",
              "       [ 2277,  4125],\n",
              "       [ 4127,  4219],\n",
              "       [ 4221,  4224],\n",
              "       [ 4232,  4566],\n",
              "       [ 4572,  4635],\n",
              "       [ 4639,  4721],\n",
              "       [ 4748,  6189],\n",
              "       [ 6191,  6208],\n",
              "       [ 6212,  6365],\n",
              "       [ 6382,  7658],\n",
              "       [ 7667,  9017],\n",
              "       [ 9024,  9777],\n",
              "       [ 9783, 10924],\n",
              "       [10944, 10983],\n",
              "       [10985, 11160],\n",
              "       [11170, 11561],\n",
              "       [11564, 12010],\n",
              "       [12016, 12414],\n",
              "       [12416, 12575],\n",
              "       [12583, 12669],\n",
              "       [12676, 13719],\n",
              "       [13724, 13847],\n",
              "       [13850, 13886],\n",
              "       [13888, 14387],\n",
              "       [14393, 14978],\n",
              "       [14980, 15062],\n",
              "       [15064, 15067],\n",
              "       [15068, 15221],\n",
              "       [15223, 15680],\n",
              "       [15683, 16074],\n",
              "       [16084, 16572],\n",
              "       [16577, 16676],\n",
              "       [16694, 17372],\n",
              "       [17378, 17562],\n",
              "       [17592, 19235],\n",
              "       [19237, 19427],\n",
              "       [19440, 20161],\n",
              "       [20163, 20233],\n",
              "       [20241, 21619],\n",
              "       [21620, 21767],\n",
              "       [21775, 21786],\n",
              "       [21795, 21865],\n",
              "       [21871, 22383],\n",
              "       [22391, 22817],\n",
              "       [22823, 23181],\n",
              "       [23188, 23279],\n",
              "       [23290, 23465],\n",
              "       [23477, 24479],\n",
              "       [24499, 24992],\n",
              "       [24995, 25074],\n",
              "       [25079, 25166],\n",
              "       [25168, 25597],\n",
              "       [25598, 26817],\n",
              "       [26823, 29063],\n",
              "       [29065, 29816],\n",
              "       [29818, 29820],\n",
              "       [29822, 30529],\n",
              "       [30533, 30785],\n",
              "       [30792, 30810],\n",
              "       [30811, 33480],\n",
              "       [33486, 33646],\n",
              "       [33653, 34671],\n",
              "       [34679, 34684],\n",
              "       [34689, 37369],\n",
              "       [37374, 37497],\n",
              "       [37498, 38016],\n",
              "       [38024, 38031],\n",
              "       [38042, 38108],\n",
              "       [38113, 38212],\n",
              "       [38221, 40663],\n",
              "       [40665, 44608],\n",
              "       [44609, 44697],\n",
              "       [44698, 44699],\n",
              "       [44700, 45240],\n",
              "       [45242, 47976],\n",
              "       [47979, 49497],\n",
              "       [49499, 49502],\n",
              "       [49504, 56094],\n",
              "       [56098, 58535],\n",
              "       [58537, 60075],\n",
              "       [60076, 60262],\n",
              "       [60267, 60278],\n",
              "       [60284, 62832],\n",
              "       [62837, 64129],\n",
              "       [64137, 64140],\n",
              "       [64144, 64477],\n",
              "       [64480, 68177],\n",
              "       [68184, 69622],\n",
              "       [69633, 70038],\n",
              "       [70043, 70238],\n",
              "       [70243, 70266],\n",
              "       [70275, 73713],\n",
              "       [73722, 73764],\n",
              "       [73767, 74591],\n",
              "       [74599, 74621],\n",
              "       [74626, 75111],\n",
              "       [75117, 75164],\n",
              "       [75167, 75286],\n",
              "       [75292, 76157],\n",
              "       [76163, 76561],\n",
              "       [76563, 78817],\n",
              "       [78821, 87619],\n",
              "       [87631, 87636],\n",
              "       [87643, 88922],\n",
              "       [88926, 89008],\n",
              "       [89010, 89011],\n",
              "       [89012, 94235],\n",
              "       [94243, 94320],\n",
              "       [94325, 94334],\n",
              "       [94335, 97665],\n",
              "       [97671, 97754]])"
            ]
          },
          "execution_count": 27,
          "metadata": {},
          "output_type": "execute_result"
        }
      ],
      "source": [
        "# Generate list of scenes from predictions, returns tuples of (start frame, end frame)\n",
        "scenes = scenes_from_predictions(predictions, threshold=0.0000005)\n",
        "\n",
        "# For ilustration purposes, only the visualized scenes are shown.\n",
        "scenes[:]"
      ]
    },
    {
      "cell_type": "code",
      "execution_count": 29,
      "metadata": {},
      "outputs": [
        {
          "data": {
            "text/plain": [
              "array([    0,   554,   556,   559,   566,  1781,  1786,  1889,  1892,\n",
              "        1920,  1923,  2123,  2135,  2263,  2277,  4125,  4127,  4219,\n",
              "        4221,  4224,  4232,  4566,  4572,  4635,  4639,  4721,  4748,\n",
              "        6189,  6191,  6208,  6212,  6365,  6382,  7658,  7667,  9017,\n",
              "        9024,  9777,  9783, 10924, 10944, 10983, 10985, 11160, 11170,\n",
              "       11561, 11564, 12010, 12016, 12414, 12416, 12575, 12583, 12669,\n",
              "       12676, 13719, 13724, 13847, 13850, 13886, 13888, 14387, 14393,\n",
              "       14978, 14980, 15062, 15064, 15067, 15068, 15221, 15223, 15680,\n",
              "       15683, 16074, 16084, 16572, 16577, 16676, 16694, 17372, 17378,\n",
              "       17562, 17592, 19235, 19237, 19427, 19440, 20161, 20163, 20233,\n",
              "       20241, 21619, 21620, 21767, 21775, 21786, 21795, 21865, 21871,\n",
              "       22383, 22391, 22817, 22823, 23181, 23188, 23279, 23290, 23465,\n",
              "       23477, 24479, 24499, 24992, 24995, 25074, 25079, 25166, 25168,\n",
              "       25597, 25598, 26817, 26823, 29063, 29065, 29816, 29818, 29820,\n",
              "       29822, 30529, 30533, 30785, 30792, 30810, 30811, 33480, 33486,\n",
              "       33646, 33653, 34671, 34679, 34684, 34689, 37369, 37374, 37497,\n",
              "       37498, 38016, 38024, 38031, 38042, 38108, 38113, 38212, 38221,\n",
              "       40663, 40665, 44608, 44609, 44697, 44698, 44699, 44700, 45240,\n",
              "       45242, 47976, 47979, 49497, 49499, 49502, 49504, 56094, 56098,\n",
              "       58535, 58537, 60075, 60076, 60262, 60267, 60278, 60284, 62832,\n",
              "       62837, 64129, 64137, 64140, 64144, 64477, 64480, 68177, 68184,\n",
              "       69622, 69633, 70038, 70043, 70238, 70243, 70266, 70275, 73713,\n",
              "       73722, 73764, 73767, 74591, 74599, 74621, 74626, 75111, 75117,\n",
              "       75164, 75167, 75286, 75292, 76157, 76163, 76561, 76563, 78817,\n",
              "       78821, 87619, 87631, 87636, 87643, 88922, 88926, 89008, 89010,\n",
              "       89011, 89012, 94235, 94243, 94320, 94325, 94334, 94335, 97665,\n",
              "       97671, 97754])"
            ]
          },
          "execution_count": 29,
          "metadata": {},
          "output_type": "execute_result"
        }
      ],
      "source": [
        "keyframes = scenes.flatten()\n",
        "keyframes"
      ]
    },
    {
      "cell_type": "code",
      "execution_count": 33,
      "metadata": {},
      "outputs": [],
      "source": [
        "import pandas as pd\n",
        "# convert array into dataframe \n",
        "DF = pd.DataFrame(keyframes) \n",
        "  \n",
        "# save the dataframe as a csv file \n",
        "DF.to_csv(\"vid_4.csv\", header=False)"
      ]
    },
    {
      "cell_type": "code",
      "execution_count": 14,
      "metadata": {},
      "outputs": [
        {
          "data": {
            "text/html": [
              "<div>\n",
              "<style scoped>\n",
              "    .dataframe tbody tr th:only-of-type {\n",
              "        vertical-align: middle;\n",
              "    }\n",
              "\n",
              "    .dataframe tbody tr th {\n",
              "        vertical-align: top;\n",
              "    }\n",
              "\n",
              "    .dataframe thead th {\n",
              "        text-align: right;\n",
              "    }\n",
              "</style>\n",
              "<table border=\"1\" class=\"dataframe\">\n",
              "  <thead>\n",
              "    <tr style=\"text-align: right;\">\n",
              "      <th></th>\n",
              "      <th>0</th>\n",
              "      <th>0.1</th>\n",
              "    </tr>\n",
              "  </thead>\n",
              "  <tbody>\n",
              "    <tr>\n",
              "      <th>0</th>\n",
              "      <td>1</td>\n",
              "      <td>554</td>\n",
              "    </tr>\n",
              "    <tr>\n",
              "      <th>1</th>\n",
              "      <td>2</td>\n",
              "      <td>556</td>\n",
              "    </tr>\n",
              "    <tr>\n",
              "      <th>2</th>\n",
              "      <td>3</td>\n",
              "      <td>559</td>\n",
              "    </tr>\n",
              "    <tr>\n",
              "      <th>3</th>\n",
              "      <td>4</td>\n",
              "      <td>566</td>\n",
              "    </tr>\n",
              "    <tr>\n",
              "      <th>4</th>\n",
              "      <td>5</td>\n",
              "      <td>1781</td>\n",
              "    </tr>\n",
              "    <tr>\n",
              "      <th>...</th>\n",
              "      <td>...</td>\n",
              "      <td>...</td>\n",
              "    </tr>\n",
              "    <tr>\n",
              "      <th>230</th>\n",
              "      <td>231</td>\n",
              "      <td>94334</td>\n",
              "    </tr>\n",
              "    <tr>\n",
              "      <th>231</th>\n",
              "      <td>232</td>\n",
              "      <td>94335</td>\n",
              "    </tr>\n",
              "    <tr>\n",
              "      <th>232</th>\n",
              "      <td>233</td>\n",
              "      <td>97665</td>\n",
              "    </tr>\n",
              "    <tr>\n",
              "      <th>233</th>\n",
              "      <td>234</td>\n",
              "      <td>97671</td>\n",
              "    </tr>\n",
              "    <tr>\n",
              "      <th>234</th>\n",
              "      <td>235</td>\n",
              "      <td>97754</td>\n",
              "    </tr>\n",
              "  </tbody>\n",
              "</table>\n",
              "<p>235 rows × 2 columns</p>\n",
              "</div>"
            ],
            "text/plain": [
              "       0    0.1\n",
              "0      1    554\n",
              "1      2    556\n",
              "2      3    559\n",
              "3      4    566\n",
              "4      5   1781\n",
              "..   ...    ...\n",
              "230  231  94334\n",
              "231  232  94335\n",
              "232  233  97665\n",
              "233  234  97671\n",
              "234  235  97754\n",
              "\n",
              "[235 rows x 2 columns]"
            ]
          },
          "execution_count": 14,
          "metadata": {},
          "output_type": "execute_result"
        }
      ],
      "source": [
        "import pandas as pd\n",
        "df = pd.read_csv(\"keyframes/vid_4.csv\", index_col=False)\n",
        "# df = df.iloc[:, 1]\n",
        "# df.to_csv(\"vid_4.csv\", header=False, index_label=False)\n",
        "df"
      ]
    },
    {
      "cell_type": "code",
      "execution_count": 20,
      "metadata": {},
      "outputs": [
        {
          "data": {
            "text/plain": [
              "0        554\n",
              "1        556\n",
              "2        559\n",
              "3        566\n",
              "4       1781\n",
              "       ...  \n",
              "230    94334\n",
              "231    94335\n",
              "232    97665\n",
              "233    97671\n",
              "234    97754\n",
              "Name: 0.1, Length: 235, dtype: int64"
            ]
          },
          "execution_count": 20,
          "metadata": {},
          "output_type": "execute_result"
        }
      ],
      "source": [
        "df = df.iloc[:, 1]\n",
        "df"
      ]
    },
    {
      "cell_type": "code",
      "execution_count": 21,
      "metadata": {},
      "outputs": [
        {
          "data": {
            "text/plain": [
              "[0,\n",
              " 554,\n",
              " 556,\n",
              " 559,\n",
              " 566,\n",
              " 1781,\n",
              " 1786,\n",
              " 1889,\n",
              " 1892,\n",
              " 1920,\n",
              " 1923,\n",
              " 2123,\n",
              " 2135,\n",
              " 2263,\n",
              " 2277,\n",
              " 4125,\n",
              " 4127,\n",
              " 4219,\n",
              " 4221,\n",
              " 4224,\n",
              " 4232,\n",
              " 4566,\n",
              " 4572,\n",
              " 4635,\n",
              " 4639,\n",
              " 4721,\n",
              " 4748,\n",
              " 6189,\n",
              " 6191,\n",
              " 6208,\n",
              " 6212,\n",
              " 6365,\n",
              " 6382,\n",
              " 7658,\n",
              " 7667,\n",
              " 9017,\n",
              " 9024,\n",
              " 9777,\n",
              " 9783,\n",
              " 10924,\n",
              " 10944,\n",
              " 10983,\n",
              " 10985,\n",
              " 11160,\n",
              " 11170,\n",
              " 11561,\n",
              " 11564,\n",
              " 12010,\n",
              " 12016,\n",
              " 12414,\n",
              " 12416,\n",
              " 12575,\n",
              " 12583,\n",
              " 12669,\n",
              " 12676,\n",
              " 13719,\n",
              " 13724,\n",
              " 13847,\n",
              " 13850,\n",
              " 13886,\n",
              " 13888,\n",
              " 14387,\n",
              " 14393,\n",
              " 14978,\n",
              " 14980,\n",
              " 15062,\n",
              " 15064,\n",
              " 15067,\n",
              " 15068,\n",
              " 15221,\n",
              " 15223,\n",
              " 15680,\n",
              " 15683,\n",
              " 16074,\n",
              " 16084,\n",
              " 16572,\n",
              " 16577,\n",
              " 16676,\n",
              " 16694,\n",
              " 17372,\n",
              " 17378,\n",
              " 17562,\n",
              " 17592,\n",
              " 19235,\n",
              " 19237,\n",
              " 19427,\n",
              " 19440,\n",
              " 20161,\n",
              " 20163,\n",
              " 20233,\n",
              " 20241,\n",
              " 21619,\n",
              " 21620,\n",
              " 21767,\n",
              " 21775,\n",
              " 21786,\n",
              " 21795,\n",
              " 21865,\n",
              " 21871,\n",
              " 22383,\n",
              " 22391,\n",
              " 22817,\n",
              " 22823,\n",
              " 23181,\n",
              " 23188,\n",
              " 23279,\n",
              " 23290,\n",
              " 23465,\n",
              " 23477,\n",
              " 24479,\n",
              " 24499,\n",
              " 24992,\n",
              " 24995,\n",
              " 25074,\n",
              " 25079,\n",
              " 25166,\n",
              " 25168,\n",
              " 25597,\n",
              " 25598,\n",
              " 26817,\n",
              " 26823,\n",
              " 29063,\n",
              " 29065,\n",
              " 29816,\n",
              " 29818,\n",
              " 29820,\n",
              " 29822,\n",
              " 30529,\n",
              " 30533,\n",
              " 30785,\n",
              " 30792,\n",
              " 30810,\n",
              " 30811,\n",
              " 33480,\n",
              " 33486,\n",
              " 33646,\n",
              " 33653,\n",
              " 34671,\n",
              " 34679,\n",
              " 34684,\n",
              " 34689,\n",
              " 37369,\n",
              " 37374,\n",
              " 37497,\n",
              " 37498,\n",
              " 38016,\n",
              " 38024,\n",
              " 38031,\n",
              " 38042,\n",
              " 38108,\n",
              " 38113,\n",
              " 38212,\n",
              " 38221,\n",
              " 40663,\n",
              " 40665,\n",
              " 44608,\n",
              " 44609,\n",
              " 44697,\n",
              " 44698,\n",
              " 44699,\n",
              " 44700,\n",
              " 45240,\n",
              " 45242,\n",
              " 47976,\n",
              " 47979,\n",
              " 49497,\n",
              " 49499,\n",
              " 49502,\n",
              " 49504,\n",
              " 56094,\n",
              " 56098,\n",
              " 58535,\n",
              " 58537,\n",
              " 60075,\n",
              " 60076,\n",
              " 60262,\n",
              " 60267,\n",
              " 60278,\n",
              " 60284,\n",
              " 62832,\n",
              " 62837,\n",
              " 64129,\n",
              " 64137,\n",
              " 64140,\n",
              " 64144,\n",
              " 64477,\n",
              " 64480,\n",
              " 68177,\n",
              " 68184,\n",
              " 69622,\n",
              " 69633,\n",
              " 70038,\n",
              " 70043,\n",
              " 70238,\n",
              " 70243,\n",
              " 70266,\n",
              " 70275,\n",
              " 73713,\n",
              " 73722,\n",
              " 73764,\n",
              " 73767,\n",
              " 74591,\n",
              " 74599,\n",
              " 74621,\n",
              " 74626,\n",
              " 75111,\n",
              " 75117,\n",
              " 75164,\n",
              " 75167,\n",
              " 75286,\n",
              " 75292,\n",
              " 76157,\n",
              " 76163,\n",
              " 76561,\n",
              " 76563,\n",
              " 78817,\n",
              " 78821,\n",
              " 87619,\n",
              " 87631,\n",
              " 87636,\n",
              " 87643,\n",
              " 88922,\n",
              " 88926,\n",
              " 89008,\n",
              " 89010,\n",
              " 89011,\n",
              " 89012,\n",
              " 94235,\n",
              " 94243,\n",
              " 94320,\n",
              " 94325,\n",
              " 94334,\n",
              " 94335,\n",
              " 97665,\n",
              " 97671,\n",
              " 97754]"
            ]
          },
          "execution_count": 21,
          "metadata": {},
          "output_type": "execute_result"
        }
      ],
      "source": [
        "keyframes = [0] + df.to_list()\n",
        "keyframes"
      ]
    },
    {
      "cell_type": "code",
      "execution_count": 32,
      "metadata": {},
      "outputs": [],
      "source": [
        "import cv2 \n",
        "  \n",
        "# Function to extract frames \n",
        "def FrameCapture(path, keyframes = None): \n",
        "  \n",
        "    # Path to video file \n",
        "    vidObj = cv2.VideoCapture(path) \n",
        "  \n",
        "    # Used as counter variable \n",
        "    count = 0\n",
        "  \n",
        "    # checks whether frames were extracted \n",
        "    success = 1\n",
        "    i = 0\n",
        "  \n",
        "    while success: \n",
        "        \n",
        "        # vidObj object calls read \n",
        "        # function extract frames \n",
        "        success, image = vidObj.read() \n",
        "        # print(count, keyframes[i])\n",
        "        if (count == keyframes[i]):\n",
        "            # Saves the frames with frame-count \n",
        "            cv2.imwrite(\"keyframes/frame%d.jpg\" % count, image)\n",
        "            i += 1\n",
        "  \n",
        "        count += 1"
      ]
    },
    {
      "cell_type": "code",
      "execution_count": 33,
      "metadata": {},
      "outputs": [],
      "source": [
        "FrameCapture(\"vids/4.mp4\", keyframes)"
      ]
    },
    {
      "cell_type": "code",
      "execution_count": 28,
      "metadata": {},
      "outputs": [
        {
          "data": {
            "text/plain": [
              "(118, 2)"
            ]
          },
          "execution_count": 28,
          "metadata": {},
          "output_type": "execute_result"
        }
      ],
      "source": [
        "scenes.shape"
      ]
    },
    {
      "cell_type": "code",
      "execution_count": null,
      "metadata": {},
      "outputs": [
        {
          "data": {
            "text/plain": [
              "array([3.34941120e-14, 5.01648080e-14, 4.18246641e-14, 4.77313840e-14,\n",
              "       5.33769399e-14, 5.18896619e-14, 4.96163169e-14, 5.74814447e-14,\n",
              "       6.48700589e-14, 6.33062193e-14, 5.68511099e-14, 7.32082580e-14,\n",
              "       8.09334425e-14, 8.63733523e-14, 1.01236395e-13, 1.09970748e-13,\n",
              "       1.24679753e-13, 1.32415197e-13, 1.60074251e-13, 1.79398488e-13,\n",
              "       1.92340976e-13, 1.93180717e-13, 1.83325929e-13, 1.63700989e-13,\n",
              "       1.48298271e-13, 1.40796988e-13, 1.29573747e-13, 1.14228099e-13,\n",
              "       1.06309147e-13, 1.03385223e-13, 9.93552164e-14, 1.04171839e-13,\n",
              "       1.09335358e-13, 1.14342753e-13, 1.19136472e-13, 1.33229677e-13,\n",
              "       1.41932662e-13, 1.48806586e-13, 1.59250800e-13, 1.74238187e-13,\n",
              "       1.73142953e-13, 1.55218259e-13, 1.38882476e-13, 1.10262690e-13,\n",
              "       1.05761062e-13, 7.25449499e-14, 6.63256207e-14, 9.93935023e-14,\n",
              "       5.53678976e-14, 2.94907633e-14, 2.00626394e-14, 2.81521463e-14,\n",
              "       3.25870007e-14, 4.94426819e-14, 7.45050790e-14, 8.66208215e-14,\n",
              "       9.33779692e-14, 1.19890995e-13, 1.35237944e-13, 1.36985638e-13,\n",
              "       1.37434728e-13, 1.53150008e-13, 1.45264145e-13, 1.34788326e-13,\n",
              "       1.24157669e-13, 1.25299104e-13, 1.18199870e-13, 1.10198776e-13,\n",
              "       1.02366066e-13], dtype=float32)"
            ]
          },
          "execution_count": 26,
          "metadata": {},
          "output_type": "execute_result"
        }
      ],
      "source": [
        "predictions"
      ]
    },
    {
      "cell_type": "code",
      "execution_count": null,
      "metadata": {},
      "outputs": [],
      "source": [
        "# Importing Image module from PIL package  \n",
        "from PIL import Image  \n",
        "import PIL  \n",
        "  \n",
        "# creating a image object (main image)  \n",
        "im1 = Image.open(r\"C:\\Users\\toand\\OneDrive\\Hình ảnh\\Capture.PNG\")  \n",
        "  \n",
        "# save a image using extension \n",
        "im1 = im1.save(\"geeks.png\") "
      ]
    }
  ],
  "metadata": {
    "accelerator": "GPU",
    "colab": {
      "collapsed_sections": [],
      "provenance": []
    },
    "kernelspec": {
      "display_name": "Python 3",
      "name": "python3"
    },
    "language_info": {
      "codemirror_mode": {
        "name": "ipython",
        "version": 3
      },
      "file_extension": ".py",
      "mimetype": "text/x-python",
      "name": "python",
      "nbconvert_exporter": "python",
      "pygments_lexer": "ipython3",
      "version": "3.7.16"
    }
  },
  "nbformat": 4,
  "nbformat_minor": 0
}
